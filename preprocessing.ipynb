{
 "cells": [
  {
   "cell_type": "code",
   "execution_count": 2,
   "metadata": {
    "collapsed": true
   },
   "outputs": [],
   "source": [
    "import numpy as np\n",
    "import pandas as pd"
   ]
  },
  {
   "cell_type": "code",
   "execution_count": 66,
   "metadata": {},
   "outputs": [],
   "source": [
    "filename = \"cleaned_visdata.csv\"\n",
    "columns = ['status','gender','province','deathCause']\n",
    "key = 'status'\n",
    "\n",
    "columns.remove(key)\n",
    "\n",
    "dfs = []\n",
    "for column in columns:\n",
    "    df = pd.read_csv(filename)\n",
    "    df = df[['year','week','status','gender','province','deathCause','date']]\n",
    "    output = df.pivot_table(index=['year','week'],columns=[key,column],aggfunc='count').fillna(value=0).stack(level=1)['date']\n",
    "    dfs.append(output)\n",
    "    \n",
    "file = pd.concat(dfs, axis=1)\n",
    "file.fillna(value=0,inplace=True)\n",
    "file['total'] = file['Adult - Female']+file['Adult - Male']+file['Child - Female']+file['Child - Male']\n",
    "file = file.applymap(int)\n",
    "file.to_csv('key_'+key+'.csv')"
   ]
  },
  {
   "cell_type": "code",
   "execution_count": null,
   "metadata": {
    "collapsed": true
   },
   "outputs": [],
   "source": []
  }
 ],
 "metadata": {
  "kernelspec": {
   "display_name": "Python 3",
   "language": "python",
   "name": "python3"
  },
  "language_info": {
   "codemirror_mode": {
    "name": "ipython",
    "version": 3
   },
   "file_extension": ".py",
   "mimetype": "text/x-python",
   "name": "python",
   "nbconvert_exporter": "python",
   "pygments_lexer": "ipython3",
   "version": "3.6.3"
  }
 },
 "nbformat": 4,
 "nbformat_minor": 2
}
